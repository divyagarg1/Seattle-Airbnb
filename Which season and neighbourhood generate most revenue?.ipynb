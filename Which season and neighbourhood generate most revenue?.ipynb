{
 "cells": [
  {
   "cell_type": "code",
   "execution_count": 1,
   "metadata": {
    "collapsed": false
   },
   "outputs": [
    {
     "data": {
      "text/plain": [
       "(3818, 92)"
      ]
     },
     "execution_count": 1,
     "metadata": {},
     "output_type": "execute_result"
    }
   ],
   "source": [
    "import numpy as np\n",
    "import pandas as pd\n",
    "import matplotlib.pyplot as plt\n",
    "import seaborn as sns\n",
    "%matplotlib inline\n",
    "\n",
    "df_listings = pd.read_csv('./listings.csv')\n",
    "np.shape(df_listings)"
   ]
  },
  {
   "cell_type": "code",
   "execution_count": 2,
   "metadata": {
    "collapsed": false,
    "scrolled": false
   },
   "outputs": [
    {
     "data": {
      "text/html": [
       "<div>\n",
       "<style scoped>\n",
       "    .dataframe tbody tr th:only-of-type {\n",
       "        vertical-align: middle;\n",
       "    }\n",
       "\n",
       "    .dataframe tbody tr th {\n",
       "        vertical-align: top;\n",
       "    }\n",
       "\n",
       "    .dataframe thead th {\n",
       "        text-align: right;\n",
       "    }\n",
       "</style>\n",
       "<table border=\"1\" class=\"dataframe\">\n",
       "  <thead>\n",
       "    <tr style=\"text-align: right;\">\n",
       "      <th></th>\n",
       "      <th>neighbourhood_group_cleansed</th>\n",
       "      <th>price</th>\n",
       "    </tr>\n",
       "  </thead>\n",
       "  <tbody>\n",
       "    <tr>\n",
       "      <td>0</td>\n",
       "      <td>Queen Anne</td>\n",
       "      <td>$85.00</td>\n",
       "    </tr>\n",
       "    <tr>\n",
       "      <td>1</td>\n",
       "      <td>Queen Anne</td>\n",
       "      <td>$150.00</td>\n",
       "    </tr>\n",
       "    <tr>\n",
       "      <td>2</td>\n",
       "      <td>Queen Anne</td>\n",
       "      <td>$975.00</td>\n",
       "    </tr>\n",
       "    <tr>\n",
       "      <td>3</td>\n",
       "      <td>Queen Anne</td>\n",
       "      <td>$100.00</td>\n",
       "    </tr>\n",
       "    <tr>\n",
       "      <td>4</td>\n",
       "      <td>Queen Anne</td>\n",
       "      <td>$450.00</td>\n",
       "    </tr>\n",
       "  </tbody>\n",
       "</table>\n",
       "</div>"
      ],
      "text/plain": [
       "  neighbourhood_group_cleansed    price\n",
       "0                   Queen Anne   $85.00\n",
       "1                   Queen Anne  $150.00\n",
       "2                   Queen Anne  $975.00\n",
       "3                   Queen Anne  $100.00\n",
       "4                   Queen Anne  $450.00"
      ]
     },
     "execution_count": 2,
     "metadata": {},
     "output_type": "execute_result"
    }
   ],
   "source": [
    "neighborhood_price = df_listings[['neighbourhood_group_cleansed','price']]\n",
    "neighborhood_price.head()\n"
   ]
  },
  {
   "cell_type": "code",
   "execution_count": 3,
   "metadata": {
    "collapsed": true
   },
   "outputs": [],
   "source": [
    "def clean_price_field(df, fieldname):\n",
    "    '''\n",
    "    INPUT:\n",
    "    df - pandas dataframe containing price column\n",
    "    fieldname - price column name in dataframe which should be cleaned up to get a float value for analysis\n",
    "    \n",
    "    OUTPUT:\n",
    "    df - same dataframe that has price column without '$' or ','. Price column will be a float object\n",
    "    '''\n",
    "    df[fieldname] = [x.strip('$') for x in df[fieldname]]\n",
    "    df[fieldname] = [x.replace(',','') for x in df[fieldname]]\n",
    "    df[fieldname] = df[fieldname].astype(float)\n",
    "    return df[fieldname]"
   ]
  },
  {
   "cell_type": "code",
   "execution_count": 4,
   "metadata": {
    "collapsed": false
   },
   "outputs": [
    {
     "name": "stderr",
     "output_type": "stream",
     "text": [
      "/Library/Frameworks/Python.framework/Versions/3.7/lib/python3.7/site-packages/ipykernel_launcher.py:10: SettingWithCopyWarning: \n",
      "A value is trying to be set on a copy of a slice from a DataFrame.\n",
      "Try using .loc[row_indexer,col_indexer] = value instead\n",
      "\n",
      "See the caveats in the documentation: http://pandas.pydata.org/pandas-docs/stable/user_guide/indexing.html#returning-a-view-versus-a-copy\n",
      "  # Remove the CWD from sys.path while we load stuff.\n",
      "/Library/Frameworks/Python.framework/Versions/3.7/lib/python3.7/site-packages/ipykernel_launcher.py:11: SettingWithCopyWarning: \n",
      "A value is trying to be set on a copy of a slice from a DataFrame.\n",
      "Try using .loc[row_indexer,col_indexer] = value instead\n",
      "\n",
      "See the caveats in the documentation: http://pandas.pydata.org/pandas-docs/stable/user_guide/indexing.html#returning-a-view-versus-a-copy\n",
      "  # This is added back by InteractiveShellApp.init_path()\n",
      "/Library/Frameworks/Python.framework/Versions/3.7/lib/python3.7/site-packages/ipykernel_launcher.py:12: SettingWithCopyWarning: \n",
      "A value is trying to be set on a copy of a slice from a DataFrame.\n",
      "Try using .loc[row_indexer,col_indexer] = value instead\n",
      "\n",
      "See the caveats in the documentation: http://pandas.pydata.org/pandas-docs/stable/user_guide/indexing.html#returning-a-view-versus-a-copy\n",
      "  if sys.path[0] == '':\n",
      "/Library/Frameworks/Python.framework/Versions/3.7/lib/python3.7/site-packages/ipykernel_launcher.py:1: SettingWithCopyWarning: \n",
      "A value is trying to be set on a copy of a slice from a DataFrame.\n",
      "Try using .loc[row_indexer,col_indexer] = value instead\n",
      "\n",
      "See the caveats in the documentation: http://pandas.pydata.org/pandas-docs/stable/user_guide/indexing.html#returning-a-view-versus-a-copy\n",
      "  \"\"\"Entry point for launching an IPython kernel.\n"
     ]
    }
   ],
   "source": [
    "neighborhood_price['price'] = clean_price_field(neighborhood_price, 'price')"
   ]
  },
  {
   "cell_type": "code",
   "execution_count": 5,
   "metadata": {
    "collapsed": false,
    "scrolled": true
   },
   "outputs": [
    {
     "data": {
      "text/html": [
       "<div>\n",
       "<style scoped>\n",
       "    .dataframe tbody tr th:only-of-type {\n",
       "        vertical-align: middle;\n",
       "    }\n",
       "\n",
       "    .dataframe tbody tr th {\n",
       "        vertical-align: top;\n",
       "    }\n",
       "\n",
       "    .dataframe thead th {\n",
       "        text-align: right;\n",
       "    }\n",
       "</style>\n",
       "<table border=\"1\" class=\"dataframe\">\n",
       "  <thead>\n",
       "    <tr style=\"text-align: right;\">\n",
       "      <th></th>\n",
       "      <th>neighbourhood_group_cleansed</th>\n",
       "      <th>price</th>\n",
       "    </tr>\n",
       "  </thead>\n",
       "  <tbody>\n",
       "    <tr>\n",
       "      <td>0</td>\n",
       "      <td>Queen Anne</td>\n",
       "      <td>85.0</td>\n",
       "    </tr>\n",
       "    <tr>\n",
       "      <td>1</td>\n",
       "      <td>Queen Anne</td>\n",
       "      <td>150.0</td>\n",
       "    </tr>\n",
       "    <tr>\n",
       "      <td>2</td>\n",
       "      <td>Queen Anne</td>\n",
       "      <td>975.0</td>\n",
       "    </tr>\n",
       "    <tr>\n",
       "      <td>3</td>\n",
       "      <td>Queen Anne</td>\n",
       "      <td>100.0</td>\n",
       "    </tr>\n",
       "    <tr>\n",
       "      <td>4</td>\n",
       "      <td>Queen Anne</td>\n",
       "      <td>450.0</td>\n",
       "    </tr>\n",
       "  </tbody>\n",
       "</table>\n",
       "</div>"
      ],
      "text/plain": [
       "  neighbourhood_group_cleansed  price\n",
       "0                   Queen Anne   85.0\n",
       "1                   Queen Anne  150.0\n",
       "2                   Queen Anne  975.0\n",
       "3                   Queen Anne  100.0\n",
       "4                   Queen Anne  450.0"
      ]
     },
     "execution_count": 5,
     "metadata": {},
     "output_type": "execute_result"
    }
   ],
   "source": [
    "neighborhood_price.head()"
   ]
  },
  {
   "cell_type": "code",
   "execution_count": 6,
   "metadata": {
    "collapsed": false,
    "scrolled": true
   },
   "outputs": [],
   "source": [
    "neighborhood_mean_price = neighborhood_price.groupby('neighbourhood_group_cleansed', as_index=False)['price'].mean().sort_values(by=['price'],\n",
    "                                                                                                ascending=False)\n",
    "neighborhood_mean_price = neighborhood_mean_price.reset_index(drop=True)"
   ]
  },
  {
   "cell_type": "code",
   "execution_count": 7,
   "metadata": {
    "collapsed": false,
    "scrolled": true
   },
   "outputs": [
    {
     "data": {
      "image/png": "[encoded data removed]",
      "text/plain": [
       "<Figure size 432x288 with 1 Axes>"
      ]
     },
     "metadata": {
      "needs_background": "light"
     },
     "output_type": "display_data"
    }
   ],
   "source": [
    "neighborhood_mean_price.plot(kind='bar',x='neighbourhood_group_cleansed',y='price')\n",
    "plt.title(\"Which neighbourhood is priced highest?\");"
   ]
  },
  {
   "cell_type": "markdown",
   "metadata": {},
   "source": [
    "### Most priced airbnb need not generate maximum revenue so will look at the calendar dataset to understand more about the revenue. "
   ]
  },
  {
   "cell_type": "markdown",
   "metadata": {},
   "source": [
    "# Season vs price vs Revenue"
   ]
  },
  {
   "cell_type": "code",
   "execution_count": 8,
   "metadata": {
    "collapsed": false,
    "scrolled": false
   },
   "outputs": [
    {
     "data": {
      "text/html": [
       "<div>\n",
       "<style scoped>\n",
       "    .dataframe tbody tr th:only-of-type {\n",
       "        vertical-align: middle;\n",
       "    }\n",
       "\n",
       "    .dataframe tbody tr th {\n",
       "        vertical-align: top;\n",
       "    }\n",
       "\n",
       "    .dataframe thead th {\n",
       "        text-align: right;\n",
       "    }\n",
       "</style>\n",
       "<table border=\"1\" class=\"dataframe\">\n",
       "  <thead>\n",
       "    <tr style=\"text-align: right;\">\n",
       "      <th></th>\n",
       "      <th>listing_id</th>\n",
       "      <th>date</th>\n",
       "      <th>available</th>\n",
       "      <th>price</th>\n",
       "    </tr>\n",
       "  </thead>\n",
       "  <tbody>\n",
       "    <tr>\n",
       "      <td>0</td>\n",
       "      <td>241032</td>\n",
       "      <td>2016-01-04</td>\n",
       "      <td>t</td>\n",
       "      <td>$85.00</td>\n",
       "    </tr>\n",
       "    <tr>\n",
       "      <td>1</td>\n",
       "      <td>241032</td>\n",
       "      <td>2016-01-05</td>\n",
       "      <td>t</td>\n",
       "      <td>$85.00</td>\n",
       "    </tr>\n",
       "    <tr>\n",
       "      <td>2</td>\n",
       "      <td>241032</td>\n",
       "      <td>2016-01-06</td>\n",
       "      <td>f</td>\n",
       "      <td>NaN</td>\n",
       "    </tr>\n",
       "    <tr>\n",
       "      <td>3</td>\n",
       "      <td>241032</td>\n",
       "      <td>2016-01-07</td>\n",
       "      <td>f</td>\n",
       "      <td>NaN</td>\n",
       "    </tr>\n",
       "    <tr>\n",
       "      <td>4</td>\n",
       "      <td>241032</td>\n",
       "      <td>2016-01-08</td>\n",
       "      <td>f</td>\n",
       "      <td>NaN</td>\n",
       "    </tr>\n",
       "  </tbody>\n",
       "</table>\n",
       "</div>"
      ],
      "text/plain": [
       "   listing_id        date available   price\n",
       "0      241032  2016-01-04         t  $85.00\n",
       "1      241032  2016-01-05         t  $85.00\n",
       "2      241032  2016-01-06         f     NaN\n",
       "3      241032  2016-01-07         f     NaN\n",
       "4      241032  2016-01-08         f     NaN"
      ]
     },
     "execution_count": 8,
     "metadata": {},
     "output_type": "execute_result"
    }
   ],
   "source": [
    "df_cal = pd.read_csv('./calendar.csv')\n",
    "df_cal.head()"
   ]
  },
  {
   "cell_type": "code",
   "execution_count": 9,
   "metadata": {
    "collapsed": false
   },
   "outputs": [
    {
     "data": {
      "text/html": [
       "<div>\n",
       "<style scoped>\n",
       "    .dataframe tbody tr th:only-of-type {\n",
       "        vertical-align: middle;\n",
       "    }\n",
       "\n",
       "    .dataframe tbody tr th {\n",
       "        vertical-align: top;\n",
       "    }\n",
       "\n",
       "    .dataframe thead th {\n",
       "        text-align: right;\n",
       "    }\n",
       "</style>\n",
       "<table border=\"1\" class=\"dataframe\">\n",
       "  <thead>\n",
       "    <tr style=\"text-align: right;\">\n",
       "      <th></th>\n",
       "      <th>listing_id</th>\n",
       "      <th>date</th>\n",
       "      <th>available</th>\n",
       "      <th>price</th>\n",
       "    </tr>\n",
       "  </thead>\n",
       "  <tbody>\n",
       "    <tr>\n",
       "      <td>797216</td>\n",
       "      <td>3335</td>\n",
       "      <td>2016-02-29</td>\n",
       "      <td>t</td>\n",
       "      <td>$120.00</td>\n",
       "    </tr>\n",
       "    <tr>\n",
       "      <td>797217</td>\n",
       "      <td>3335</td>\n",
       "      <td>2016-03-01</td>\n",
       "      <td>t</td>\n",
       "      <td>$120.00</td>\n",
       "    </tr>\n",
       "    <tr>\n",
       "      <td>797218</td>\n",
       "      <td>3335</td>\n",
       "      <td>2016-03-02</td>\n",
       "      <td>t</td>\n",
       "      <td>$120.00</td>\n",
       "    </tr>\n",
       "    <tr>\n",
       "      <td>797219</td>\n",
       "      <td>3335</td>\n",
       "      <td>2016-03-03</td>\n",
       "      <td>t</td>\n",
       "      <td>$120.00</td>\n",
       "    </tr>\n",
       "    <tr>\n",
       "      <td>797220</td>\n",
       "      <td>3335</td>\n",
       "      <td>2016-03-04</td>\n",
       "      <td>t</td>\n",
       "      <td>$120.00</td>\n",
       "    </tr>\n",
       "  </tbody>\n",
       "</table>\n",
       "</div>"
      ],
      "text/plain": [
       "        listing_id        date available    price\n",
       "797216        3335  2016-02-29         t  $120.00\n",
       "797217        3335  2016-03-01         t  $120.00\n",
       "797218        3335  2016-03-02         t  $120.00\n",
       "797219        3335  2016-03-03         t  $120.00\n",
       "797220        3335  2016-03-04         t  $120.00"
      ]
     },
     "execution_count": 9,
     "metadata": {},
     "output_type": "execute_result"
    }
   ],
   "source": [
    "#Sort the list and drop na\n",
    "df_cal_no_na = df_cal.sort_values(by=[\"listing_id\",\"date\"]).dropna()\n",
    "df_cal_no_na.head()"
   ]
  },
  {
   "cell_type": "code",
   "execution_count": 10,
   "metadata": {
    "collapsed": false
   },
   "outputs": [
    {
     "data": {
      "text/html": [
       "<div>\n",
       "<style scoped>\n",
       "    .dataframe tbody tr th:only-of-type {\n",
       "        vertical-align: middle;\n",
       "    }\n",
       "\n",
       "    .dataframe tbody tr th {\n",
       "        vertical-align: top;\n",
       "    }\n",
       "\n",
       "    .dataframe thead th {\n",
       "        text-align: right;\n",
       "    }\n",
       "</style>\n",
       "<table border=\"1\" class=\"dataframe\">\n",
       "  <thead>\n",
       "    <tr style=\"text-align: right;\">\n",
       "      <th></th>\n",
       "      <th>listing_id</th>\n",
       "      <th>date</th>\n",
       "      <th>available</th>\n",
       "      <th>price</th>\n",
       "    </tr>\n",
       "  </thead>\n",
       "  <tbody>\n",
       "    <tr>\n",
       "      <td>797216</td>\n",
       "      <td>3335</td>\n",
       "      <td>2016-02-29</td>\n",
       "      <td>t</td>\n",
       "      <td>120.0</td>\n",
       "    </tr>\n",
       "    <tr>\n",
       "      <td>797217</td>\n",
       "      <td>3335</td>\n",
       "      <td>2016-03-01</td>\n",
       "      <td>t</td>\n",
       "      <td>120.0</td>\n",
       "    </tr>\n",
       "    <tr>\n",
       "      <td>797218</td>\n",
       "      <td>3335</td>\n",
       "      <td>2016-03-02</td>\n",
       "      <td>t</td>\n",
       "      <td>120.0</td>\n",
       "    </tr>\n",
       "    <tr>\n",
       "      <td>797219</td>\n",
       "      <td>3335</td>\n",
       "      <td>2016-03-03</td>\n",
       "      <td>t</td>\n",
       "      <td>120.0</td>\n",
       "    </tr>\n",
       "    <tr>\n",
       "      <td>797220</td>\n",
       "      <td>3335</td>\n",
       "      <td>2016-03-04</td>\n",
       "      <td>t</td>\n",
       "      <td>120.0</td>\n",
       "    </tr>\n",
       "  </tbody>\n",
       "</table>\n",
       "</div>"
      ],
      "text/plain": [
       "        listing_id        date available  price\n",
       "797216        3335  2016-02-29         t  120.0\n",
       "797217        3335  2016-03-01         t  120.0\n",
       "797218        3335  2016-03-02         t  120.0\n",
       "797219        3335  2016-03-03         t  120.0\n",
       "797220        3335  2016-03-04         t  120.0"
      ]
     },
     "execution_count": 10,
     "metadata": {},
     "output_type": "execute_result"
    }
   ],
   "source": [
    "df_cal_no_na['price'] = clean_price_field(df_cal_no_na, \"price\")\n",
    "df_cal_no_na.head()"
   ]
  },
  {
   "cell_type": "code",
   "execution_count": 11,
   "metadata": {
    "collapsed": true
   },
   "outputs": [],
   "source": [
    "def get_seasonal_price(df):\n",
    "    '''\n",
    "    INPUT:\n",
    "    df - pandas dataframe for calendar with columns listing_id, date and price\n",
    "    \n",
    "    \n",
    "    OUTPUT:\n",
    "    df - new dataframe that has following features:\n",
    "        1. columns in the new dataframe include listing_id, season, price\n",
    "        2. season is calculated based on the dates - Dec to Feb = Winter, Mar to May = Spring, \n",
    "                                                        Jun to Aug = Summer, Sep to Nov = Fall\n",
    "        3. Seasonal price is calculated by taking mean of the price in a particular season for a listing id\n",
    "    '''\n",
    "    prev_listing_id = 0\n",
    "    winter_sum = spring_sum= summer_sum= fall_sum= winter_count= spring_count= summer_count= fall_count = 0 \n",
    "    calendar_data = []\n",
    "    for index, row in df.iterrows():\n",
    "        if prev_listing_id != row['listing_id'] and prev_listing_id != 0:\n",
    "            calendar_data.append([prev_listing_id, 'winter', winter_sum/winter_count if winter_count else 0])\n",
    "            calendar_data.append([prev_listing_id, 'spring', spring_sum/spring_count if spring_count else 0])\n",
    "            calendar_data.append([prev_listing_id, 'summer', summer_sum/summer_count if summer_count else 0])\n",
    "            calendar_data.append([prev_listing_id, 'fall', fall_sum/fall_count if fall_count else 0])\n",
    "            winter_sum = spring_sum= summer_sum= fall_sum= winter_count= spring_count= summer_count= fall_count = 0 \n",
    "        if row['date'] >=\"2016-01-01\" and row['date'] <=\"2016-02-29\":\n",
    "            winter_sum += row['price']\n",
    "            winter_count +=1\n",
    "        if row['date'] >=\"2016-03-01\" and row['date'] <=\"2016-05-31\":\n",
    "            spring_sum += row['price']\n",
    "            spring_count += 1\n",
    "        if row['date'] >=\"2016-06-01\" and row['date'] <=\"2016-08-31\":\n",
    "            summer_sum += row['price']\n",
    "            summer_count += 1\n",
    "        if row['date'] >=\"2016-09-01\" and row['date'] <=\"2016-11-30\":\n",
    "            fall_sum += row['price']\n",
    "            fall_count += 1\n",
    "        if row['date'] >=\"2016-12-01\" and row['date'] <=\"2016-12-31\":\n",
    "            winter_sum += row['price']\n",
    "            winter_count += 1\n",
    "        prev_listing_id = row['listing_id']\n",
    "    calendar_data.append([prev_listing_id, 'winter', winter_sum/winter_count if winter_count else 0])\n",
    "    calendar_data.append([prev_listing_id, 'spring', spring_sum/spring_count if spring_count else 0])\n",
    "    calendar_data.append([prev_listing_id, 'summer', summer_sum/summer_count if summer_count else 0])\n",
    "    calendar_data.append([prev_listing_id, 'fall', fall_sum/fall_count if fall_count else 0])\n",
    "    df_new_calendar = pd.DataFrame(calendar_data,columns=['listing_id','season', 'price'])\n",
    "    return df_new_calendar\n",
    "            "
   ]
  },
  {
   "cell_type": "code",
   "execution_count": 13,
   "metadata": {
    "collapsed": false,
    "scrolled": true
   },
   "outputs": [
    {
     "data": {
      "text/html": [
       "<div>\n",
       "<style scoped>\n",
       "    .dataframe tbody tr th:only-of-type {\n",
       "        vertical-align: middle;\n",
       "    }\n",
       "\n",
       "    .dataframe tbody tr th {\n",
       "        vertical-align: top;\n",
       "    }\n",
       "\n",
       "    .dataframe thead th {\n",
       "        text-align: right;\n",
       "    }\n",
       "</style>\n",
       "<table border=\"1\" class=\"dataframe\">\n",
       "  <thead>\n",
       "    <tr style=\"text-align: right;\">\n",
       "      <th></th>\n",
       "      <th>listing_id</th>\n",
       "      <th>season</th>\n",
       "      <th>price</th>\n",
       "    </tr>\n",
       "  </thead>\n",
       "  <tbody>\n",
       "    <tr>\n",
       "      <td>0</td>\n",
       "      <td>3335</td>\n",
       "      <td>winter</td>\n",
       "      <td>120.000000</td>\n",
       "    </tr>\n",
       "    <tr>\n",
       "      <td>1</td>\n",
       "      <td>3335</td>\n",
       "      <td>spring</td>\n",
       "      <td>120.000000</td>\n",
       "    </tr>\n",
       "    <tr>\n",
       "      <td>2</td>\n",
       "      <td>3335</td>\n",
       "      <td>summer</td>\n",
       "      <td>120.000000</td>\n",
       "    </tr>\n",
       "    <tr>\n",
       "      <td>3</td>\n",
       "      <td>3335</td>\n",
       "      <td>fall</td>\n",
       "      <td>120.000000</td>\n",
       "    </tr>\n",
       "    <tr>\n",
       "      <td>4</td>\n",
       "      <td>4291</td>\n",
       "      <td>winter</td>\n",
       "      <td>82.000000</td>\n",
       "    </tr>\n",
       "    <tr>\n",
       "      <td>5</td>\n",
       "      <td>4291</td>\n",
       "      <td>spring</td>\n",
       "      <td>82.000000</td>\n",
       "    </tr>\n",
       "    <tr>\n",
       "      <td>6</td>\n",
       "      <td>4291</td>\n",
       "      <td>summer</td>\n",
       "      <td>82.000000</td>\n",
       "    </tr>\n",
       "    <tr>\n",
       "      <td>7</td>\n",
       "      <td>4291</td>\n",
       "      <td>fall</td>\n",
       "      <td>82.000000</td>\n",
       "    </tr>\n",
       "    <tr>\n",
       "      <td>8</td>\n",
       "      <td>5682</td>\n",
       "      <td>winter</td>\n",
       "      <td>50.328125</td>\n",
       "    </tr>\n",
       "    <tr>\n",
       "      <td>9</td>\n",
       "      <td>5682</td>\n",
       "      <td>spring</td>\n",
       "      <td>54.491803</td>\n",
       "    </tr>\n",
       "    <tr>\n",
       "      <td>10</td>\n",
       "      <td>5682</td>\n",
       "      <td>summer</td>\n",
       "      <td>60.000000</td>\n",
       "    </tr>\n",
       "    <tr>\n",
       "      <td>11</td>\n",
       "      <td>5682</td>\n",
       "      <td>fall</td>\n",
       "      <td>50.065934</td>\n",
       "    </tr>\n",
       "    <tr>\n",
       "      <td>12</td>\n",
       "      <td>6606</td>\n",
       "      <td>winter</td>\n",
       "      <td>92.954545</td>\n",
       "    </tr>\n",
       "    <tr>\n",
       "      <td>13</td>\n",
       "      <td>6606</td>\n",
       "      <td>spring</td>\n",
       "      <td>92.826087</td>\n",
       "    </tr>\n",
       "    <tr>\n",
       "      <td>14</td>\n",
       "      <td>6606</td>\n",
       "      <td>summer</td>\n",
       "      <td>92.826087</td>\n",
       "    </tr>\n",
       "  </tbody>\n",
       "</table>\n",
       "</div>"
      ],
      "text/plain": [
       "    listing_id  season       price\n",
       "0         3335  winter  120.000000\n",
       "1         3335  spring  120.000000\n",
       "2         3335  summer  120.000000\n",
       "3         3335    fall  120.000000\n",
       "4         4291  winter   82.000000\n",
       "5         4291  spring   82.000000\n",
       "6         4291  summer   82.000000\n",
       "7         4291    fall   82.000000\n",
       "8         5682  winter   50.328125\n",
       "9         5682  spring   54.491803\n",
       "10        5682  summer   60.000000\n",
       "11        5682    fall   50.065934\n",
       "12        6606  winter   92.954545\n",
       "13        6606  spring   92.826087\n",
       "14        6606  summer   92.826087"
      ]
     },
     "execution_count": 13,
     "metadata": {},
     "output_type": "execute_result"
    }
   ],
   "source": [
    "df_new_calendar = get_seasonal_price(df_cal_no_na)\n",
    "df_new_calendar.head(15)"
   ]
  },
  {
   "cell_type": "code",
   "execution_count": 14,
   "metadata": {
    "collapsed": false
   },
   "outputs": [
    {
     "data": {
      "text/html": [
       "<div>\n",
       "<style scoped>\n",
       "    .dataframe tbody tr th:only-of-type {\n",
       "        vertical-align: middle;\n",
       "    }\n",
       "\n",
       "    .dataframe tbody tr th {\n",
       "        vertical-align: top;\n",
       "    }\n",
       "\n",
       "    .dataframe thead th {\n",
       "        text-align: right;\n",
       "    }\n",
       "</style>\n",
       "<table border=\"1\" class=\"dataframe\">\n",
       "  <thead>\n",
       "    <tr style=\"text-align: right;\">\n",
       "      <th></th>\n",
       "      <th>listing_id</th>\n",
       "      <th>date</th>\n",
       "      <th>available</th>\n",
       "      <th>price</th>\n",
       "    </tr>\n",
       "  </thead>\n",
       "  <tbody>\n",
       "    <tr>\n",
       "      <td>0</td>\n",
       "      <td>241032</td>\n",
       "      <td>2016-01-04</td>\n",
       "      <td>t</td>\n",
       "      <td>$85.00</td>\n",
       "    </tr>\n",
       "    <tr>\n",
       "      <td>1</td>\n",
       "      <td>241032</td>\n",
       "      <td>2016-01-05</td>\n",
       "      <td>t</td>\n",
       "      <td>$85.00</td>\n",
       "    </tr>\n",
       "    <tr>\n",
       "      <td>2</td>\n",
       "      <td>241032</td>\n",
       "      <td>2016-01-06</td>\n",
       "      <td>f</td>\n",
       "      <td>NaN</td>\n",
       "    </tr>\n",
       "    <tr>\n",
       "      <td>3</td>\n",
       "      <td>241032</td>\n",
       "      <td>2016-01-07</td>\n",
       "      <td>f</td>\n",
       "      <td>NaN</td>\n",
       "    </tr>\n",
       "    <tr>\n",
       "      <td>4</td>\n",
       "      <td>241032</td>\n",
       "      <td>2016-01-08</td>\n",
       "      <td>f</td>\n",
       "      <td>NaN</td>\n",
       "    </tr>\n",
       "  </tbody>\n",
       "</table>\n",
       "</div>"
      ],
      "text/plain": [
       "   listing_id        date available   price\n",
       "0      241032  2016-01-04         t  $85.00\n",
       "1      241032  2016-01-05         t  $85.00\n",
       "2      241032  2016-01-06         f     NaN\n",
       "3      241032  2016-01-07         f     NaN\n",
       "4      241032  2016-01-08         f     NaN"
      ]
     },
     "execution_count": 14,
     "metadata": {},
     "output_type": "execute_result"
    }
   ],
   "source": [
    "df_cal.head()"
   ]
  },
  {
   "cell_type": "code",
   "execution_count": null,
   "metadata": {
    "collapsed": false
   },
   "outputs": [],
   "source": [
    "#Adding season column based on the date\n",
    "for idx, row in df_cal.iterrows():\n",
    "    if df_cal.loc[idx,'date'] >=\"2016-01-01\" and df_cal.loc[idx,'date'] <=\"2016-02-29\":\n",
    "        df_cal.loc[idx,'season'] = 'winter'\n",
    "    elif df_cal.loc[idx,'date'] >=\"2016-03-01\" and df_cal.loc[idx,'date'] <=\"2016-05-31\":\n",
    "        df_cal.loc[idx,'season'] = 'spring'\n",
    "    elif df_cal.loc[idx,'date'] >=\"2016-06-01\" and df_cal.loc[idx,'date'] <=\"2016-08-31\":\n",
    "        df_cal.loc[idx,'season'] = 'summer'\n",
    "    elif df_cal.loc[idx,'date'] >=\"2016-09-01\" and df_cal.loc[idx,'date'] <=\"2016-11-30\":\n",
    "        df_cal.loc[idx,'season'] = 'fall'\n",
    "    elif df_cal.loc[idx,'date'] >=\"2016-12-01\" and df_cal.loc[idx,'date'] <=\"2016-12-31\":\n",
    "        df_cal.loc[idx,'season'] = 'winter'\n",
    "        \n",
    "df_cal.head(10)"
   ]
  },
  {
   "cell_type": "code",
   "execution_count": null,
   "metadata": {
    "collapsed": false,
    "scrolled": false
   },
   "outputs": [],
   "source": [
    "df_merged = pd.merge(df_new_calendar, df_cal, on=[\"listing_id\", 'season'])\n",
    "df_merged.head()"
   ]
  },
  {
   "cell_type": "code",
   "execution_count": null,
   "metadata": {
    "collapsed": false
   },
   "outputs": [],
   "source": [
    "# For revenue, we will only consider listings with available = f This is an ASSUMPTION that listings that\n",
    "# are not available are occupied.\n",
    "df_merged_unavail = df_merged[df_merged.available =='f']\n",
    "df_merged_unavail.head(s)"
   ]
  },
  {
   "cell_type": "code",
   "execution_count": null,
   "metadata": {
    "collapsed": true
   },
   "outputs": [],
   "source": [
    "df_merged_unavail_revenue_season = df_merged_unavail.groupby('season', as_index=False)['price_x'].sum().sort_values(by=['price_x'],\n",
    "                                                                                                ascending=False)"
   ]
  },
  {
   "cell_type": "code",
   "execution_count": null,
   "metadata": {
    "collapsed": false
   },
   "outputs": [],
   "source": [
    "df_merged_unavail_revenue_season.plot(kind='bar',x='season',y='price_x', color='blue')\n",
    "plt.title(\"Which season has more priced Airbnbs?\")"
   ]
  },
  {
   "cell_type": "code",
   "execution_count": null,
   "metadata": {
    "collapsed": false
   },
   "outputs": [],
   "source": [
    "df_merged_unavail_revenue_season = df_merged_unavail.groupby('date', as_index=False)['price_x'].sum().sort_values(by=['price_x'],\n",
    "                                                                                                ascending=False)\n",
    "df_merged_unavail_revenue_season.plot(kind='line',x='date',y='price_x', color='blue')\n",
    "plt.title(\"Which season earns more revenue?\")"
   ]
  },
  {
   "cell_type": "code",
   "execution_count": null,
   "metadata": {
    "collapsed": false
   },
   "outputs": [],
   "source": [
    "# Which season is most occupied?\n",
    "df_merged_unavail_season = df_merged_unavail.groupby('date', as_index=False)['listing_id'].count().sort_values(by=['listing_id'],\n",
    "                                                                                                ascending=False)\n",
    "df_merged_unavail_season.plot(kind='line',x='date',y='listing_id', color='blue')\n",
    "plt.title(\"Which season is most occupied?\")\n"
   ]
  },
  {
   "cell_type": "code",
   "execution_count": null,
   "metadata": {
    "collapsed": false
   },
   "outputs": [],
   "source": [
    "# Which season is most occupied?\n",
    "df_merged_unavail_season = df_merged_unavail.groupby('season', as_index=False)['listing_id'].count().sort_values(by=['listing_id'],\n",
    "                                                                                                ascending=False)\n",
    "df_merged_unavail_season.plot(kind='bar',x='season',y='listing_id', color='blue')\n",
    "plt.title(\"Which season is most occupied?\")"
   ]
  },
  {
   "cell_type": "code",
   "execution_count": null,
   "metadata": {
    "collapsed": false,
    "scrolled": true
   },
   "outputs": [],
   "source": [
    "#Which season has most high average price? \n",
    "df_merged_unavail_season = df_merged_unavail.groupby('season', as_index=False)['price_x'].mean().sort_values(by=['price_x'],\n",
    "                                                                                                ascending=False)\n",
    "df_merged_unavail_season.plot(kind='bar',x='season',y='price_x', color='blue')\n",
    "plt.title(\"Which season has the highest price?\")\n"
   ]
  },
  {
   "cell_type": "markdown",
   "metadata": {},
   "source": [
    "### CONCLUSION : Even though summers are most occupied, since airbnbs are priced highest during winters, the total revenue is also highest during Winters esepcially during New Years. "
   ]
  },
  {
   "cell_type": "markdown",
   "metadata": {},
   "source": [
    "# Neighborhood vs prices vs revenue"
   ]
  },
  {
   "cell_type": "code",
   "execution_count": null,
   "metadata": {
    "collapsed": false
   },
   "outputs": [],
   "source": [
    "#Neighborhood\n",
    "df_neighborhood = df_listings[[\"id\", 'neighbourhood_group_cleansed']]\n",
    "df_neighborhood.head()"
   ]
  },
  {
   "cell_type": "code",
   "execution_count": null,
   "metadata": {
    "collapsed": false
   },
   "outputs": [],
   "source": [
    "df_neighborhood.rename(columns={'id':'listing_id'}, inplace=True) #changing the column name to merge on this column\n",
    "df_merged_neighborhood = pd.merge(df_neighborhood, df_merged_unavail, on=\"listing_id\")\n",
    "df_merged_neighborhood.head()"
   ]
  },
  {
   "cell_type": "code",
   "execution_count": null,
   "metadata": {
    "collapsed": false,
    "scrolled": false
   },
   "outputs": [],
   "source": [
    "df_merged_revenue_neighbourhood = df_merged_neighborhood.groupby('neighbourhood_group_cleansed', \n",
    "                                                    as_index=False)['price_x'].sum().sort_values(by=['price_x'],\n",
    "                                                                                                ascending=False)\n",
    "df_merged_revenue_neighbourhood.plot(kind='bar',x='neighbourhood_group_cleansed',y='price_x', color='purple')\n",
    "plt.title(\"Which neighbourhood earns more revenue?\")"
   ]
  },
  {
   "cell_type": "markdown",
   "metadata": {},
   "source": [
    "### CONCLUSION : If we remove \"other neighbourhoods\", the neighborhoods that generate maximum revenue is Downtown followed by Capitol Hill and Queen Anne. If we compare it with the first graph in this book, airbns in Downtown and Capitol Hill are marked reasonably higher as well as compared to other areas. However, Magnolia which is priced highest generates one of the lowest revenues."
   ]
  }
 ],
 "metadata": {
  "kernelspec": {
   "display_name": "Python 3",
   "language": "python",
   "name": "python3"
  },
  "language_info": {
   "codemirror_mode": {
    "name": "ipython",
    "version": 3
   },
   "file_extension": ".py",
   "mimetype": "text/x-python",
   "name": "python",
   "nbconvert_exporter": "python",
   "pygments_lexer": "ipython3",
   "version": "3.7.3"
  }
 },
 "nbformat": 4,
 "nbformat_minor": 0
}
