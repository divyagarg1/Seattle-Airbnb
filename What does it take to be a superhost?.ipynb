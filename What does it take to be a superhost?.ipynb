{
 "cells": [
  {
   "cell_type": "code",
   "execution_count": 2,
   "metadata": {
    "collapsed": false
   },
   "outputs": [
    {
     "data": {
      "text/plain": [
       "(3818, 92)"
      ]
     },
     "execution_count": 2,
     "metadata": {},
     "output_type": "execute_result"
    }
   ],
   "source": [
    "import numpy as np\n",
    "import pandas as pd\n",
    "import matplotlib.pyplot as plt\n",
    "import seaborn as sns\n",
    "%matplotlib inline\n",
    "\n",
    "df_listings = pd.read_csv('./listings.csv')\n",
    "np.shape(df_listings)"
   ]
  },
  {
   "cell_type": "code",
   "execution_count": 16,
   "metadata": {
    "collapsed": false
   },
   "outputs": [
    {
     "data": {
      "text/plain": [
       "(2751,)"
      ]
     },
     "execution_count": 16,
     "metadata": {},
     "output_type": "execute_result"
    }
   ],
   "source": [
    "#Checking how many total hosts are there?\n",
    "\n",
    "np.shape(np.unique(df_listings['host_id']))\n"
   ]
  },
  {
   "cell_type": "code",
   "execution_count": 18,
   "metadata": {
    "collapsed": false
   },
   "outputs": [
    {
     "data": {
      "text/plain": [
       "0    0\n",
       "1    1\n",
       "2    0\n",
       "3    0\n",
       "4    0\n",
       "Name: host_is_superhost, dtype: int64"
      ]
     },
     "execution_count": 18,
     "metadata": {},
     "output_type": "execute_result"
    }
   ],
   "source": [
    "#How many superhosts are there?\n",
    "def is_superhost(superhost):\n",
    "    '''\n",
    "    INPUT\n",
    "        superhost - a string of one of the values from the host is a superhost column\n",
    "    \n",
    "    OUTPUT\n",
    "        return 1 if the host is a superhost has value 't'\n",
    "        return 0 otherwise\n",
    "    \n",
    "    '''\n",
    "    if superhost in ['t']:\n",
    "        return 1; \n",
    "    else:\n",
    "        return 0\n",
    "    \n",
    "\n",
    "df_listings[\"host_is_superhost\"].apply(is_superhost)[:5] #Test your function to assure it provides 1 and 0 values for the df"
   ]
  },
  {
   "cell_type": "code",
   "execution_count": 69,
   "metadata": {
    "collapsed": false
   },
   "outputs": [
    {
     "data": {
      "text/plain": [
       "0.2037716081718177"
      ]
     },
     "execution_count": 69,
     "metadata": {},
     "output_type": "execute_result"
    }
   ],
   "source": [
    "# Check how many superhosts\n",
    "df_listings['Superhost?'] = df_listings[\"host_is_superhost\"].apply(is_superhost)\n",
    "superhost_perc = df_listings['Superhost?'].mean()\n",
    "superhost_perc\n"
   ]
  },
  {
   "cell_type": "markdown",
   "metadata": {},
   "source": [
    "20% of hosts are superhosts"
   ]
  },
  {
   "cell_type": "code",
   "execution_count": 70,
   "metadata": {
    "collapsed": false
   },
   "outputs": [
    {
     "name": "stdout",
     "output_type": "stream",
     "text": [
      "1     1\n",
      "6     1\n",
      "7     1\n",
      "9     1\n",
      "10    1\n",
      "Name: Superhost?, dtype: int64\n",
      "0    0\n",
      "2    0\n",
      "3    0\n",
      "4    0\n",
      "5    0\n",
      "Name: Superhost?, dtype: int64\n"
     ]
    }
   ],
   "source": [
    "superhost = df_listings[df_listings['Superhost?'] == 1]  # Subset df to only those with HigherEd of 1\n",
    "notsuperhost = df_listings[df_listings['Superhost?'] == 0]  # Subset df to only those with HigherEd of 0\n",
    "\n",
    "\n",
    "print(superhost['Superhost?'][:5]) #Assure it looks like what you would expect\n",
    "print(notsuperhost['Superhost?'][:5]) #Assure it looks like what you would expect"
   ]
  },
  {
   "cell_type": "code",
   "execution_count": 71,
   "metadata": {
    "collapsed": false
   },
   "outputs": [
    {
     "data": {
      "text/plain": [
       "f    3227\n",
       "t     591\n",
       "Name: instant_bookable, dtype: int64"
      ]
     },
     "execution_count": 71,
     "metadata": {},
     "output_type": "execute_result"
    }
   ],
   "source": [
    "# Check for instant booking, cancellation policy and room type \n",
    "instant_booking = df_listings['instant_bookable'].value_counts()\n",
    "instant_booking"
   ]
  },
  {
   "cell_type": "code",
   "execution_count": 110,
   "metadata": {
    "collapsed": false
   },
   "outputs": [],
   "source": [
    "#Check your subset is correct - you should get a plot that was created using pandas styling\n",
    "#which you can learn more about here: https://pandas.pydata.org/pandas-docs/stable/style.html\n",
    "\n",
    "def test_values_for_superhost(field_to_test) :\n",
    "    ed_1_perc = superhost[field_to_test].value_counts().reset_index()\n",
    "    ed_1_perc.rename(columns={'index': field_to_test, field_to_test: 'count'}, inplace=True)\n",
    "    ed_1_perc.set_index(field_to_test,inplace=True)\n",
    "    ed_1_perc = ed_1_perc/ed_1_perc.sum()\n",
    "    ed_1_perc\n",
    "\n",
    "    ed_0_perc = notsuperhost[field_to_test].value_counts().reset_index()\n",
    "    ed_0_perc.rename(columns={'index': field_to_test, field_to_test: 'count'}, inplace=True)\n",
    "    ed_0_perc.set_index(field_to_test,inplace=True)\n",
    "    ed_0_perc = ed_0_perc/ed_0_perc.sum()\n",
    "\n",
    "    comp_df = pd.merge(ed_1_perc, ed_0_perc, left_index=True, right_index=True)\n",
    "    comp_df.columns = [ 'superhost','nonsuperhost']\n",
    "\n",
    "    comp_df['Diff_HigherEd_Vals'] = comp_df['superhost'] - comp_df['nonsuperhost']\n",
    "    return comp_df  "
   ]
  },
  {
   "cell_type": "code",
   "execution_count": 109,
   "metadata": {
    "collapsed": false
   },
   "outputs": [
    {
     "data": {
      "text/html": [
       "\n",
       "        <style  type=\"text/css\" >\n",
       "        \n",
       "        \n",
       "            #T_473c0de8_9b91_11e9_95a1_a0999b021721row0_col2 {\n",
       "            \n",
       "                width:  10em;\n",
       "            \n",
       "                 height:  80%;\n",
       "            \n",
       "                background:  linear-gradient(90deg,#d65f5f 0.0%, transparent 0%);\n",
       "            \n",
       "            }\n",
       "        \n",
       "            #T_473c0de8_9b91_11e9_95a1_a0999b021721row1_col2 {\n",
       "            \n",
       "                width:  10em;\n",
       "            \n",
       "                 height:  80%;\n",
       "            \n",
       "                background:  linear-gradient(90deg,#d65f5f 100.0%, transparent 0%);\n",
       "            \n",
       "            }\n",
       "        \n",
       "        </style>\n",
       "\n",
       "        <table id=\"T_473c0de8_9b91_11e9_95a1_a0999b021721\" None>\n",
       "        \n",
       "\n",
       "        <thead>\n",
       "            \n",
       "            <tr>\n",
       "                \n",
       "                <th class=\"blank\">\n",
       "                \n",
       "                <th class=\"col_heading level0 col0\">superhost\n",
       "                \n",
       "                <th class=\"col_heading level0 col1\">nonsuperhost\n",
       "                \n",
       "                <th class=\"col_heading level0 col2\">Diff_HigherEd_Vals\n",
       "                \n",
       "            </tr>\n",
       "            \n",
       "        </thead>\n",
       "        <tbody>\n",
       "            \n",
       "            <tr>\n",
       "                \n",
       "                <th id=\"T_473c0de8_9b91_11e9_95a1_a0999b021721\" class=\"row_heading level2 row0\">\n",
       "                    \n",
       "                        f\n",
       "                    \n",
       "                \n",
       "                <td id=\"T_473c0de8_9b91_11e9_95a1_a0999b021721row0_col0\" class=\"data row0 col0\">\n",
       "                    \n",
       "                        0.786632\n",
       "                    \n",
       "                \n",
       "                <td id=\"T_473c0de8_9b91_11e9_95a1_a0999b021721row0_col1\" class=\"data row0 col1\">\n",
       "                    \n",
       "                        0.860197\n",
       "                    \n",
       "                \n",
       "                <td id=\"T_473c0de8_9b91_11e9_95a1_a0999b021721row0_col2\" class=\"data row0 col2\">\n",
       "                    \n",
       "                        -0.073565\n",
       "                    \n",
       "                \n",
       "            </tr>\n",
       "            \n",
       "            <tr>\n",
       "                \n",
       "                <th id=\"T_473c0de8_9b91_11e9_95a1_a0999b021721\" class=\"row_heading level2 row1\">\n",
       "                    \n",
       "                        t\n",
       "                    \n",
       "                \n",
       "                <td id=\"T_473c0de8_9b91_11e9_95a1_a0999b021721row1_col0\" class=\"data row1 col0\">\n",
       "                    \n",
       "                        0.213368\n",
       "                    \n",
       "                \n",
       "                <td id=\"T_473c0de8_9b91_11e9_95a1_a0999b021721row1_col1\" class=\"data row1 col1\">\n",
       "                    \n",
       "                        0.139803\n",
       "                    \n",
       "                \n",
       "                <td id=\"T_473c0de8_9b91_11e9_95a1_a0999b021721row1_col2\" class=\"data row1 col2\">\n",
       "                    \n",
       "                        0.073565\n",
       "                    \n",
       "                \n",
       "            </tr>\n",
       "            \n",
       "        </tbody>\n",
       "        </table>\n",
       "        "
      ],
      "text/plain": [
       "<pandas.core.style.Styler at 0x11d418b10>"
      ]
     },
     "execution_count": 109,
     "metadata": {},
     "output_type": "execute_result"
    }
   ],
   "source": [
    "#Instant Bookable\n",
    "comp_df = test_values_for_superhost('instant_bookable')\n",
    "comp_df.style.bar(subset=['Diff_HigherEd_Vals'])"
   ]
  },
  {
   "cell_type": "code",
   "execution_count": 111,
   "metadata": {
    "collapsed": false
   },
   "outputs": [
    {
     "data": {
      "text/html": [
       "\n",
       "        <style  type=\"text/css\" >\n",
       "        \n",
       "        \n",
       "            #T_61572597_9b91_11e9_a385_a0999b021721row0_col2 {\n",
       "            \n",
       "                width:  10em;\n",
       "            \n",
       "                 height:  80%;\n",
       "            \n",
       "                background:  linear-gradient(90deg,#d65f5f 57.4572860018%, transparent 0%);\n",
       "            \n",
       "            }\n",
       "        \n",
       "            #T_61572597_9b91_11e9_a385_a0999b021721row1_col2 {\n",
       "            \n",
       "                width:  10em;\n",
       "            \n",
       "                 height:  80%;\n",
       "            \n",
       "                background:  linear-gradient(90deg,#d65f5f 100.0%, transparent 0%);\n",
       "            \n",
       "            }\n",
       "        \n",
       "            #T_61572597_9b91_11e9_a385_a0999b021721row2_col2 {\n",
       "            \n",
       "                width:  10em;\n",
       "            \n",
       "                 height:  80%;\n",
       "            \n",
       "                background:  linear-gradient(90deg,#d65f5f 0.0%, transparent 0%);\n",
       "            \n",
       "            }\n",
       "        \n",
       "        </style>\n",
       "\n",
       "        <table id=\"T_61572597_9b91_11e9_a385_a0999b021721\" None>\n",
       "        \n",
       "\n",
       "        <thead>\n",
       "            \n",
       "            <tr>\n",
       "                \n",
       "                <th class=\"blank\">\n",
       "                \n",
       "                <th class=\"col_heading level0 col0\">superhost\n",
       "                \n",
       "                <th class=\"col_heading level0 col1\">nonsuperhost\n",
       "                \n",
       "                <th class=\"col_heading level0 col2\">Diff_HigherEd_Vals\n",
       "                \n",
       "            </tr>\n",
       "            \n",
       "        </thead>\n",
       "        <tbody>\n",
       "            \n",
       "            <tr>\n",
       "                \n",
       "                <th id=\"T_61572597_9b91_11e9_a385_a0999b021721\" class=\"row_heading level2 row0\">\n",
       "                    \n",
       "                        Entire home/apt\n",
       "                    \n",
       "                \n",
       "                <td id=\"T_61572597_9b91_11e9_a385_a0999b021721row0_col0\" class=\"data row0 col0\">\n",
       "                    \n",
       "                        0.667095\n",
       "                    \n",
       "                \n",
       "                <td id=\"T_61572597_9b91_11e9_a385_a0999b021721row0_col1\" class=\"data row0 col1\">\n",
       "                    \n",
       "                        0.665132\n",
       "                    \n",
       "                \n",
       "                <td id=\"T_61572597_9b91_11e9_a385_a0999b021721row0_col2\" class=\"data row0 col2\">\n",
       "                    \n",
       "                        0.001964\n",
       "                    \n",
       "                \n",
       "            </tr>\n",
       "            \n",
       "            <tr>\n",
       "                \n",
       "                <th id=\"T_61572597_9b91_11e9_a385_a0999b021721\" class=\"row_heading level2 row1\">\n",
       "                    \n",
       "                        Private room\n",
       "                    \n",
       "                \n",
       "                <td id=\"T_61572597_9b91_11e9_a385_a0999b021721row1_col0\" class=\"data row1 col0\">\n",
       "                    \n",
       "                        0.318766\n",
       "                    \n",
       "                \n",
       "                <td id=\"T_61572597_9b91_11e9_a385_a0999b021721row1_col1\" class=\"data row1 col1\">\n",
       "                    \n",
       "                        0.3\n",
       "                    \n",
       "                \n",
       "                <td id=\"T_61572597_9b91_11e9_a385_a0999b021721row1_col2\" class=\"data row1 col2\">\n",
       "                    \n",
       "                        0.018766\n",
       "                    \n",
       "                \n",
       "            </tr>\n",
       "            \n",
       "            <tr>\n",
       "                \n",
       "                <th id=\"T_61572597_9b91_11e9_a385_a0999b021721\" class=\"row_heading level2 row2\">\n",
       "                    \n",
       "                        Shared room\n",
       "                    \n",
       "                \n",
       "                <td id=\"T_61572597_9b91_11e9_a385_a0999b021721row2_col0\" class=\"data row2 col0\">\n",
       "                    \n",
       "                        0.014139\n",
       "                    \n",
       "                \n",
       "                <td id=\"T_61572597_9b91_11e9_a385_a0999b021721row2_col1\" class=\"data row2 col1\">\n",
       "                    \n",
       "                        0.034868\n",
       "                    \n",
       "                \n",
       "                <td id=\"T_61572597_9b91_11e9_a385_a0999b021721row2_col2\" class=\"data row2 col2\">\n",
       "                    \n",
       "                        -0.02073\n",
       "                    \n",
       "                \n",
       "            </tr>\n",
       "            \n",
       "        </tbody>\n",
       "        </table>\n",
       "        "
      ],
      "text/plain": [
       "<pandas.core.style.Styler at 0x11d35a990>"
      ]
     },
     "execution_count": 111,
     "metadata": {},
     "output_type": "execute_result"
    }
   ],
   "source": [
    "#Room type \n",
    "comp_df = test_values_for_superhost('room_type')\n",
    "comp_df.style.bar(subset=['Diff_HigherEd_Vals'])"
   ]
  },
  {
   "cell_type": "code",
   "execution_count": 112,
   "metadata": {
    "collapsed": false
   },
   "outputs": [
    {
     "data": {
      "text/html": [
       "\n",
       "        <style  type=\"text/css\" >\n",
       "        \n",
       "        \n",
       "            #T_6dcc15f3_9b91_11e9_969a_a0999b021721row0_col2 {\n",
       "            \n",
       "                width:  10em;\n",
       "            \n",
       "                 height:  80%;\n",
       "            \n",
       "                background:  linear-gradient(90deg,#d65f5f 100.0%, transparent 0%);\n",
       "            \n",
       "            }\n",
       "        \n",
       "            #T_6dcc15f3_9b91_11e9_969a_a0999b021721row1_col2 {\n",
       "            \n",
       "                width:  10em;\n",
       "            \n",
       "                 height:  80%;\n",
       "            \n",
       "                background:  linear-gradient(90deg,#d65f5f 0.0%, transparent 0%);\n",
       "            \n",
       "            }\n",
       "        \n",
       "            #T_6dcc15f3_9b91_11e9_969a_a0999b021721row2_col2 {\n",
       "            \n",
       "                width:  10em;\n",
       "            \n",
       "                 height:  80%;\n",
       "            \n",
       "                background:  linear-gradient(90deg,#d65f5f 99.8745152585%, transparent 0%);\n",
       "            \n",
       "            }\n",
       "        \n",
       "        </style>\n",
       "\n",
       "        <table id=\"T_6dcc15f3_9b91_11e9_969a_a0999b021721\" None>\n",
       "        \n",
       "\n",
       "        <thead>\n",
       "            \n",
       "            <tr>\n",
       "                \n",
       "                <th class=\"blank\">\n",
       "                \n",
       "                <th class=\"col_heading level0 col0\">superhost\n",
       "                \n",
       "                <th class=\"col_heading level0 col1\">nonsuperhost\n",
       "                \n",
       "                <th class=\"col_heading level0 col2\">Diff_HigherEd_Vals\n",
       "                \n",
       "            </tr>\n",
       "            \n",
       "        </thead>\n",
       "        <tbody>\n",
       "            \n",
       "            <tr>\n",
       "                \n",
       "                <th id=\"T_6dcc15f3_9b91_11e9_969a_a0999b021721\" class=\"row_heading level2 row0\">\n",
       "                    \n",
       "                        strict\n",
       "                    \n",
       "                \n",
       "                <td id=\"T_6dcc15f3_9b91_11e9_969a_a0999b021721row0_col0\" class=\"data row0 col0\">\n",
       "                    \n",
       "                        0.430591\n",
       "                    \n",
       "                \n",
       "                <td id=\"T_6dcc15f3_9b91_11e9_969a_a0999b021721row0_col1\" class=\"data row0 col1\">\n",
       "                    \n",
       "                        0.355921\n",
       "                    \n",
       "                \n",
       "                <td id=\"T_6dcc15f3_9b91_11e9_969a_a0999b021721row0_col2\" class=\"data row0 col2\">\n",
       "                    \n",
       "                        0.07467\n",
       "                    \n",
       "                \n",
       "            </tr>\n",
       "            \n",
       "            <tr>\n",
       "                \n",
       "                <th id=\"T_6dcc15f3_9b91_11e9_969a_a0999b021721\" class=\"row_heading level2 row1\">\n",
       "                    \n",
       "                        flexible\n",
       "                    \n",
       "                \n",
       "                <td id=\"T_6dcc15f3_9b91_11e9_969a_a0999b021721row1_col0\" class=\"data row1 col0\">\n",
       "                    \n",
       "                        0.182519\n",
       "                    \n",
       "                \n",
       "                <td id=\"T_6dcc15f3_9b91_11e9_969a_a0999b021721row1_col1\" class=\"data row1 col1\">\n",
       "                    \n",
       "                        0.331579\n",
       "                    \n",
       "                \n",
       "                <td id=\"T_6dcc15f3_9b91_11e9_969a_a0999b021721row1_col2\" class=\"data row1 col2\">\n",
       "                    \n",
       "                        -0.14906\n",
       "                    \n",
       "                \n",
       "            </tr>\n",
       "            \n",
       "            <tr>\n",
       "                \n",
       "                <th id=\"T_6dcc15f3_9b91_11e9_969a_a0999b021721\" class=\"row_heading level2 row2\">\n",
       "                    \n",
       "                        moderate\n",
       "                    \n",
       "                \n",
       "                <td id=\"T_6dcc15f3_9b91_11e9_969a_a0999b021721row2_col0\" class=\"data row2 col0\">\n",
       "                    \n",
       "                        0.386889\n",
       "                    \n",
       "                \n",
       "                <td id=\"T_6dcc15f3_9b91_11e9_969a_a0999b021721row2_col1\" class=\"data row2 col1\">\n",
       "                    \n",
       "                        0.3125\n",
       "                    \n",
       "                \n",
       "                <td id=\"T_6dcc15f3_9b91_11e9_969a_a0999b021721row2_col2\" class=\"data row2 col2\">\n",
       "                    \n",
       "                        0.074389\n",
       "                    \n",
       "                \n",
       "            </tr>\n",
       "            \n",
       "        </tbody>\n",
       "        </table>\n",
       "        "
      ],
      "text/plain": [
       "<pandas.core.style.Styler at 0x11d34c450>"
      ]
     },
     "execution_count": 112,
     "metadata": {},
     "output_type": "execute_result"
    }
   ],
   "source": [
    "#Cancellation policy\n",
    "comp_df = test_values_for_superhost('cancellation_policy')\n",
    "comp_df.style.bar(subset=['Diff_HigherEd_Vals'])"
   ]
  },
  {
   "cell_type": "code",
   "execution_count": 114,
   "metadata": {
    "collapsed": false
   },
   "outputs": [
    {
     "data": {
      "text/html": [
       "\n",
       "        <style  type=\"text/css\" >\n",
       "        \n",
       "        \n",
       "            #T_8edc2d8f_9b91_11e9_8676_a0999b021721row0_col2 {\n",
       "            \n",
       "                width:  10em;\n",
       "            \n",
       "                 height:  80%;\n",
       "            \n",
       "                background:  linear-gradient(90deg,#d65f5f 100.0%, transparent 0%);\n",
       "            \n",
       "            }\n",
       "        \n",
       "            #T_8edc2d8f_9b91_11e9_8676_a0999b021721row1_col2 {\n",
       "            \n",
       "                width:  10em;\n",
       "            \n",
       "                 height:  80%;\n",
       "            \n",
       "                background:  linear-gradient(90deg,#d65f5f 30.9710119885%, transparent 0%);\n",
       "            \n",
       "            }\n",
       "        \n",
       "            #T_8edc2d8f_9b91_11e9_8676_a0999b021721row2_col2 {\n",
       "            \n",
       "                width:  10em;\n",
       "            \n",
       "                 height:  80%;\n",
       "            \n",
       "                background:  linear-gradient(90deg,#d65f5f 0.0%, transparent 0%);\n",
       "            \n",
       "            }\n",
       "        \n",
       "            #T_8edc2d8f_9b91_11e9_8676_a0999b021721row3_col2 {\n",
       "            \n",
       "                width:  10em;\n",
       "            \n",
       "                 height:  80%;\n",
       "            \n",
       "                background:  linear-gradient(90deg,#d65f5f 38.1682341422%, transparent 0%);\n",
       "            \n",
       "            }\n",
       "        \n",
       "        </style>\n",
       "\n",
       "        <table id=\"T_8edc2d8f_9b91_11e9_8676_a0999b021721\" None>\n",
       "        \n",
       "\n",
       "        <thead>\n",
       "            \n",
       "            <tr>\n",
       "                \n",
       "                <th class=\"blank\">\n",
       "                \n",
       "                <th class=\"col_heading level0 col0\">superhost\n",
       "                \n",
       "                <th class=\"col_heading level0 col1\">nonsuperhost\n",
       "                \n",
       "                <th class=\"col_heading level0 col2\">Diff_HigherEd_Vals\n",
       "                \n",
       "            </tr>\n",
       "            \n",
       "        </thead>\n",
       "        <tbody>\n",
       "            \n",
       "            <tr>\n",
       "                \n",
       "                <th id=\"T_8edc2d8f_9b91_11e9_8676_a0999b021721\" class=\"row_heading level2 row0\">\n",
       "                    \n",
       "                        within an hour\n",
       "                    \n",
       "                \n",
       "                <td id=\"T_8edc2d8f_9b91_11e9_8676_a0999b021721row0_col0\" class=\"data row0 col0\">\n",
       "                    \n",
       "                        0.656376\n",
       "                    \n",
       "                \n",
       "                <td id=\"T_8edc2d8f_9b91_11e9_8676_a0999b021721row0_col1\" class=\"data row0 col1\">\n",
       "                    \n",
       "                        0.471765\n",
       "                    \n",
       "                \n",
       "                <td id=\"T_8edc2d8f_9b91_11e9_8676_a0999b021721row0_col2\" class=\"data row0 col2\">\n",
       "                    \n",
       "                        0.184611\n",
       "                    \n",
       "                \n",
       "            </tr>\n",
       "            \n",
       "            <tr>\n",
       "                \n",
       "                <th id=\"T_8edc2d8f_9b91_11e9_8676_a0999b021721\" class=\"row_heading level2 row1\">\n",
       "                    \n",
       "                        within a few hours\n",
       "                    \n",
       "                \n",
       "                <td id=\"T_8edc2d8f_9b91_11e9_8676_a0999b021721row1_col0\" class=\"data row1 col0\">\n",
       "                    \n",
       "                        0.265772\n",
       "                    \n",
       "                \n",
       "                <td id=\"T_8edc2d8f_9b91_11e9_8676_a0999b021721row1_col1\" class=\"data row1 col1\">\n",
       "                    \n",
       "                        0.301961\n",
       "                    \n",
       "                \n",
       "                <td id=\"T_8edc2d8f_9b91_11e9_8676_a0999b021721row1_col2\" class=\"data row1 col2\">\n",
       "                    \n",
       "                        -0.036189\n",
       "                    \n",
       "                \n",
       "            </tr>\n",
       "            \n",
       "            <tr>\n",
       "                \n",
       "                <th id=\"T_8edc2d8f_9b91_11e9_8676_a0999b021721\" class=\"row_heading level2 row2\">\n",
       "                    \n",
       "                        within a day\n",
       "                    \n",
       "                \n",
       "                <td id=\"T_8edc2d8f_9b91_11e9_8676_a0999b021721row2_col0\" class=\"data row2 col0\">\n",
       "                    \n",
       "                        0.07651\n",
       "                    \n",
       "                \n",
       "                <td id=\"T_8edc2d8f_9b91_11e9_8676_a0999b021721row2_col1\" class=\"data row2 col1\">\n",
       "                    \n",
       "                        0.211765\n",
       "                    \n",
       "                \n",
       "                <td id=\"T_8edc2d8f_9b91_11e9_8676_a0999b021721row2_col2\" class=\"data row2 col2\">\n",
       "                    \n",
       "                        -0.135255\n",
       "                    \n",
       "                \n",
       "            </tr>\n",
       "            \n",
       "            <tr>\n",
       "                \n",
       "                <th id=\"T_8edc2d8f_9b91_11e9_8676_a0999b021721\" class=\"row_heading level2 row3\">\n",
       "                    \n",
       "                        a few days or more\n",
       "                    \n",
       "                \n",
       "                <td id=\"T_8edc2d8f_9b91_11e9_8676_a0999b021721row3_col0\" class=\"data row3 col0\">\n",
       "                    \n",
       "                        0.001342\n",
       "                    \n",
       "                \n",
       "                <td id=\"T_8edc2d8f_9b91_11e9_8676_a0999b021721row3_col1\" class=\"data row3 col1\">\n",
       "                    \n",
       "                        0.01451\n",
       "                    \n",
       "                \n",
       "                <td id=\"T_8edc2d8f_9b91_11e9_8676_a0999b021721row3_col2\" class=\"data row3 col2\">\n",
       "                    \n",
       "                        -0.013168\n",
       "                    \n",
       "                \n",
       "            </tr>\n",
       "            \n",
       "        </tbody>\n",
       "        </table>\n",
       "        "
      ],
      "text/plain": [
       "<pandas.core.style.Styler at 0x11d36bb50>"
      ]
     },
     "execution_count": 114,
     "metadata": {},
     "output_type": "execute_result"
    }
   ],
   "source": [
    "#Response time\n",
    "comp_df = test_values_for_superhost('host_response_time')\n",
    "comp_df.style.bar(subset=['Diff_HigherEd_Vals'])"
   ]
  },
  {
   "cell_type": "code",
   "execution_count": null,
   "metadata": {
    "collapsed": true
   },
   "outputs": [],
   "source": []
  },
  {
   "cell_type": "code",
   "execution_count": 15,
   "metadata": {
    "collapsed": false
   },
   "outputs": [],
   "source": [
    "df_new= df_listings[['review_scores_value', 'price','reviews_per_month']]"
   ]
  },
  {
   "cell_type": "code",
   "execution_count": 24,
   "metadata": {
    "collapsed": false
   },
   "outputs": [
    {
     "data": {
      "text/plain": [
       "0        85\n",
       "1        15\n",
       "2       975\n",
       "3         1\n",
       "4        45\n",
       "5        12\n",
       "6         8\n",
       "7         6\n",
       "8         9\n",
       "9        15\n",
       "10       95\n",
       "11       99\n",
       "12      245\n",
       "13      165\n",
       "14      461\n",
       "15      109\n",
       "16       66\n",
       "17       99\n",
       "18        2\n",
       "19        7\n",
       "20       11\n",
       "21       99\n",
       "22       45\n",
       "23       75\n",
       "24        6\n",
       "25       45\n",
       "26       15\n",
       "27       45\n",
       "28        3\n",
       "29        8\n",
       "       ... \n",
       "3788    115\n",
       "3789      6\n",
       "3790    175\n",
       "3791     85\n",
       "3792    109\n",
       "3793    109\n",
       "3794    107\n",
       "3795      2\n",
       "3796     85\n",
       "3797      7\n",
       "3798     77\n",
       "3799     65\n",
       "3800    185\n",
       "3801    108\n",
       "3802      2\n",
       "3803     25\n",
       "3804    125\n",
       "3805      1\n",
       "3806     16\n",
       "3807    109\n",
       "3808    175\n",
       "3809     12\n",
       "3810    154\n",
       "3811     65\n",
       "3812     95\n",
       "3813    359\n",
       "3814     79\n",
       "3815     93\n",
       "3816     99\n",
       "3817     87\n",
       "Name: price, dtype: float64"
      ]
     },
     "execution_count": 24,
     "metadata": {},
     "output_type": "execute_result"
    }
   ],
   "source": [
    "df_new.price = [x.strip('$') for x in df_new.price]\n",
    "df_new.price = [x.replace(',','') for x in df_new.price]\n",
    "df_new.price = [x.strip('.00') for x in df_new.price]\n",
    "df_new.price = df_new.price.astype(float)\n",
    "df_new.price"
   ]
  },
  {
   "cell_type": "code",
   "execution_count": 25,
   "metadata": {
    "collapsed": false
   },
   "outputs": [
    {
     "data": {
      "image/png": "[encoded data removed]",
      "text/plain": [
       "<matplotlib.figure.Figure at 0x118d93710>"
      ]
     },
     "metadata": {},
     "output_type": "display_data"
    }
   ],
   "source": [
    "df_new.hist();"
   ]
  },
  {
   "cell_type": "code",
   "execution_count": 26,
   "metadata": {
    "collapsed": false
   },
   "outputs": [
    {
     "data": {
      "image/png": "[encoded data removed]",
      "text/plain": [
       "<matplotlib.figure.Figure at 0x11883e050>"
      ]
     },
     "metadata": {},
     "output_type": "display_data"
    }
   ],
   "source": [
    "sns.heatmap(df_new.corr(), annot=True, fmt=\".2f\");"
   ]
  },
  {
   "cell_type": "code",
   "execution_count": null,
   "metadata": {
    "collapsed": false
   },
   "outputs": [],
   "source": []
  },
  {
   "cell_type": "code",
   "execution_count": null,
   "metadata": {
    "collapsed": true
   },
   "outputs": [],
   "source": []
  }
 ],
 "metadata": {
  "kernelspec": {
   "display_name": "Python 2",
   "language": "python",
   "name": "python2"
  },
  "language_info": {
   "codemirror_mode": {
    "name": "ipython",
    "version": 2
   },
   "file_extension": ".py",
   "mimetype": "text/x-python",
   "name": "python",
   "nbconvert_exporter": "python",
   "pygments_lexer": "ipython2",
   "version": "2.7.10"
  }
 },
 "nbformat": 4,
 "nbformat_minor": 0
}
